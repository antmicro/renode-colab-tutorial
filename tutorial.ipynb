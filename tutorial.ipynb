{
 "cells": [
  {
   "cell_type": "markdown",
   "id": "25f0cc48",
   "metadata": {
    "cell_marker": "\"\"\""
   },
   "source": [
    "[![Renode](https://dl.antmicro.com/projects/renode/renode.svg)](https://renode.io)\n",
    "\n",
    "[![Run in Google Colab](https://img.shields.io/badge/-Run%20in%20Google%20colab-%23007ded?logo=google-colab&logoColor=white&style=for-the-badge)](https://colab.research.google.com/github/antmicro/renode-colab-tutorial/blob/main/tutorial.ipynb) [![View ipynb](https://img.shields.io/badge/-View%20ipynb%20source-%23007ded?logo=jupyter&logoColor=white&style=for-the-badge)](https://github.com/antmicro/renode-colab-tutorial/blob/main/tutorial.ipynb) [![View Python source](https://img.shields.io/badge/-View%20Python%20source-%23007ded?logo=python&logoColor=white&style=for-the-badge)](https://github.com/antmicro/renode-colab-tutorial/blob/main/tutorial.py)\n",
    "\n",
    "### Table of contents\n",
    "\n",
    "1. Intro to Renode\n",
    "1. Platforms and scripts\n",
    "1. Running simple tests\n",
    "1. Getting more info from your simulation\n",
    "1. Automated tests\n",
    "1. CFU integration"
   ]
  },
  {
   "cell_type": "markdown",
   "id": "50d6f377",
   "metadata": {
    "cell_marker": "\"\"\""
   },
   "source": [
    "## Welcome to Renode!\n",
    "\n",
    "This tutorial will guide you through the basic concepts of Renode usage and its applicability in ML accelerator development.\n",
    "\n",
    "We will cover basic features like tracing, logging and testing.\n",
    "\n",
    "This notebook is not intended to be run locally as it aims to run on Ubuntu 18.04 and tries to install many software packages.\n",
    "Please run it in a Google Colab environment instead, inside a VM or a container.\n",
    "\n",
    "A note on the syntax:"
   ]
  },
  {
   "cell_type": "code",
   "execution_count": null,
   "id": "ccbb23ee",
   "metadata": {},
   "outputs": [],
   "source": [
    "! echo \"this is a Bash command, it starts with a '!'\"\n",
    "\n",
    "print(\"This is Python, it has no prefix\")\n",
    "\n",
    "%env MESSAGE=\"This is IPython Magic, starting with a '%'\""
   ]
  },
  {
   "cell_type": "markdown",
   "id": "2c7b9dd1",
   "metadata": {
    "cell_marker": "\"\"\""
   },
   "source": [
    "## What is Renode?\n",
    "\n",
    "* open source!\n",
    "* instruction set simulator\n",
    "* functional simulator\n",
    "* single and multi-node scenarios support\n",
    "* determinism and controlability\n",
    "* running the same software you'd put on hardware\n",
    "\n",
    "Go and see the [Renode website](https://renode.io), download [sources](https://github.com/renode/renode), check out the [slide deck](https://about.renode.io), or read the [documentation](https://docs.renode.io/)."
   ]
  },
  {
   "cell_type": "markdown",
   "id": "55b8f510",
   "metadata": {
    "cell_marker": "\"\"\""
   },
   "source": [
    "## Context of the workshop\n",
    "\n",
    "As a part of the VEDLIoT project, we have developed several features in Renode to accelerate ML testing.\n",
    "\n",
    "We added support for RISC-V Custom Function Units - small accelerators tailored for specific use cases, tightly integrated with the CPU.\n",
    "\n",
    "CFUs are implemented in HDL and compiled with Verilator to create a cycle-accurate model.\n",
    "Together with Renode functional simulation, using the interface developed in VEDLIoT, they create a so-called co-simulation setup.\n",
    "\n",
    "<img src=\"https://antmicro.com/blog/images/CFU-renode-diagram.svg\" width=\"1200\">\n",
    "\n",
    "See it in practice on Google's [CFU Playground](https://github.com/google/CFU-Playground/)!\n",
    "\n",
    "![System overview](https://raw.githubusercontent.com/antmicro/renode-colab-tutorial/main/images/system.png)\n",
    "\n",
    "Our system is built from the [LiteX](https://github.com/enjoy-digital/litex/) soft SoC generator, using the [VexRiscv core](https://github.com/SpinalHDL/VexRiscv), targeting the Digilent Arty with Xilinx Artix-7 FPGA. \n",
    "\n",
    "<img src=\"https://raw.githubusercontent.com/antmicro/renode-colab-tutorial/main/images/arty.png\" width=\"700\">"
   ]
  },
  {
   "cell_type": "markdown",
   "id": "a781e0d0",
   "metadata": {
    "cell_marker": "\"\"\""
   },
   "source": [
    "## Install requirements"
   ]
  },
  {
   "cell_type": "code",
   "execution_count": null,
   "id": "b819a23a",
   "metadata": {},
   "outputs": [],
   "source": [
    "! pip install -q git+https://github.com/antmicro/renode-colab-tools.git # only needed in the Colab environment\n",
    "! pip install -q git+https://github.com/antmicro/renode-run.git # one of the ways to get Renode (Linux only)\n",
    "! pip install -q https://github.com/antmicro/pyrenode/archive/master.zip # a library to talk to Renode from Python\n",
    "! pip install -q robotframework==6.0.2 # testing framework used by Renode\n",
    "# as the compilation process takes several minutes, we will conveniently skip it here and use precompiled binaries\n",
    "! git clone https://github.com/antmicro/renode-colab-tutorial # repository with resources for this tutorial\n",
    "! wget https://raw.githubusercontent.com/enjoy-digital/litex/master/litex/tools/litex_json2renode.py  # a helper script"
   ]
  },
  {
   "cell_type": "markdown",
   "id": "fac9636c",
   "metadata": {
    "cell_marker": "\"\"\""
   },
   "source": [
    "## Getting Renode\n",
    "\n",
    "Go to https://builds.renode.io and download a nightly build for your OS.\n",
    "Visit [Renode's README](https://github.com/renode/renode/blob/master/README.rst#installation) for full installation instructions.\n",
    "\n",
    "Quick links:\n",
    "\n",
    "- [Linux portable package](https://dl.antmicro.com/projects/renode/builds/renode-latest.linux-portable.tar.gz)\n",
    "- [Windows portable package](https://dl.antmicro.com/projects/renode/builds/renode-latest.zip)\n",
    "- [MacOS dmg installer](https://dl.antmicro.com/projects/renode/builds/renode-latest.dmg)\n",
    "\n",
    "If you're on Linux, you can use the ``renode-run`` PIP package:"
   ]
  },
  {
   "cell_type": "code",
   "execution_count": null,
   "id": "7ab29dc4",
   "metadata": {},
   "outputs": [],
   "source": [
    "! renode-run download"
   ]
  },
  {
   "cell_type": "markdown",
   "id": "f7cbb12d",
   "metadata": {
    "cell_marker": "\"\"\""
   },
   "source": [
    "## Start Renode\n",
    "\n",
    "To start Renode locally, unpack or install the downloaded package and run the ``./renode`` command.\n",
    "\n",
    "If you installed Renode via ``renode-run``, just run ``renode-run``.\n",
    "\n",
    "You will see the following window, the Renode Monitor:\n",
    "\n",
    "![Renode](https://raw.githubusercontent.com/antmicro/renode-colab-tutorial/main/images/renode-monitor-cli.png)\n",
    "\n",
    "The Monitor allows you to use Renode interactively.\n",
    "Due to the nature of Google Colab and Jupyter Notebooks, this tutorial will focus on a Python-based interaction with Renode.\n",
    "\n",
    "We will start Renode with the help of the ``pyrenode`` package:"
   ]
  },
  {
   "cell_type": "code",
   "execution_count": null,
   "id": "f17c6aba",
   "metadata": {},
   "outputs": [],
   "source": [
    "# Re-run this snippet if your Colab seems to be stuck!\n",
    "from pyrenode import connect_renode, get_keywords, shutdown_renode\n",
    "\n",
    "def restart_renode():  # this might be useful if you ever see Renode not responding!\n",
    "  shutdown_renode()\n",
    "  connect_renode()\n",
    "  get_keywords()\n",
    "\n",
    "restart_renode()"
   ]
  },
  {
   "cell_type": "markdown",
   "id": "4d067d1f",
   "metadata": {
    "cell_marker": "\"\"\""
   },
   "source": [
    "## Interaction with Renode\n",
    "\n",
    "Renode uses two file types to set up the simulation:\n",
    "\n",
    "* REPL - Renode Platform\n",
    "* RESC - Renode Script\n",
    "\n",
    "Platforms define SoCs and boards, scripts describe the interconnection between\n",
    "platforms and the outside world, select software payloads, and tune emulation parameters.\n",
    "\n",
    "Platform files can either be written by hand (see our [Supported boards](https://renode.readthedocs.io/en/latest/introduction/supported-boards.html) page!)\n",
    "or generated from:\n",
    "\n",
    "* device tree (see [Renode Zephyr Dashboard!](https://zephyr-dashboard.renode.io/))\n",
    "* LiteX platform configuration\n",
    "* OpenTitan platform configuration\n",
    "* ..."
   ]
  },
  {
   "cell_type": "markdown",
   "id": "7e25eecc",
   "metadata": {
    "cell_marker": "\"\"\""
   },
   "source": [
    "## Building platform from LiteX json"
   ]
  },
  {
   "cell_type": "code",
   "execution_count": null,
   "id": "4354d488",
   "metadata": {},
   "outputs": [],
   "source": [
    "! cat renode-colab-tutorial/conf/csr.json"
   ]
  },
  {
   "cell_type": "code",
   "execution_count": null,
   "id": "8c427933",
   "metadata": {},
   "outputs": [],
   "source": [
    "! python ./litex_json2renode.py --repl digilent_arty_generated.repl renode-colab-tutorial/conf/csr.json\n",
    "! echo \"=============\"\n",
    "! echo \"Platform file:\"\n",
    "! cat digilent_arty_generated.repl\n",
    "! echo -e \"\\n\\nCFU-specific part:\\n==================\\n\\n\"\n",
    "! cat renode-colab-tutorial/conf/digilent_arty.repl"
   ]
  },
  {
   "cell_type": "markdown",
   "id": "8478d3e9",
   "metadata": {
    "cell_marker": "\"\"\""
   },
   "source": [
    "## Preparing a simulation script\n",
    "\n",
    "It will be responsible for loading the platform description and loading binaries."
   ]
  },
  {
   "cell_type": "code",
   "execution_count": null,
   "id": "5dfac0d7",
   "metadata": {},
   "outputs": [],
   "source": [
    "%%writefile script.resc\n",
    "\n",
    "using sysbus                                          # a convenience - allows us to write \"uart\" instead of \"sysbus.uart\"\n",
    "mach create \"digilent_arty\"\n",
    "machine LoadPlatformDescription $ORIGIN/renode-colab-tutorial/conf/digilent_arty.repl       # load the repl file we just created\n",
    "uart RecordToAsciinema $ORIGIN/output.asciinema       # movie-like recording of the UART output, open with https://github.com/asciinema/asciinema-player/\n",
    "showAnalyzer uart                                     # open a console window for UART, or put the output to the log\n",
    "logFile $ORIGIN/log true                              # enable logging to file, flush after every write\n",
    "\n",
    "macro reset\n",
    "\"\"\"\n",
    "    cpu0.cfu0 SimulationFilePathLinux $ORIGIN/renode-colab-tutorial/binaries/libVtop.so       # actual verilated CFU\n",
    "    sysbus LoadELF $ORIGIN/renode-colab-tutorial/binaries/software.elf                       # software we're going to run\n",
    "\"\"\"\n",
    "runMacro $reset"
   ]
  },
  {
   "cell_type": "markdown",
   "id": "bd1ad4b5",
   "metadata": {
    "lines_to_next_cell": 1
   },
   "source": [
    "## Run the sample"
   ]
  },
  {
   "cell_type": "code",
   "execution_count": null,
   "id": "afa99117",
   "metadata": {
    "lines_to_next_cell": 2
   },
   "outputs": [],
   "source": [
    "def Restart():\n",
    "  ResetEmulation()                # Does this hang for you? Replace with `restart_renode()`\n",
    "  ExecuteScript(\"script.resc\")\n",
    "  CreateTerminalTester(\"sysbus.uart\", timeout=5)\n",
    "\n",
    "Restart()\n",
    "StartEmulation()\n",
    "WaitForLineOnUart(\"Hello World!\") # Is this correct?\n",
    "WaitForPromptOnUart(\"main>\")"
   ]
  },
  {
   "cell_type": "markdown",
   "id": "25a6cbff",
   "metadata": {},
   "source": [
    "## UART output"
   ]
  },
  {
   "cell_type": "code",
   "execution_count": null,
   "id": "cd867919",
   "metadata": {},
   "outputs": [],
   "source": [
    "ResetEmulation()  # flush the asciinema output\n",
    "from renode_colab_tools import asciinema\n",
    "asciinema.display_asciicast('output.asciinema')"
   ]
  },
  {
   "cell_type": "markdown",
   "id": "91437660",
   "metadata": {},
   "source": [
    "## Run some tests"
   ]
  },
  {
   "cell_type": "code",
   "execution_count": null,
   "id": "d3aebc51",
   "metadata": {},
   "outputs": [],
   "source": [
    "Restart()\n",
    "StartEmulation()\n",
    "\n",
    "WaitForLineOnUart(\"Hello, World!\")\n",
    "WaitForPromptOnUart(\"main>\")\n",
    "\n",
    "WriteToUart(\"1\")\n",
    "WaitForPromptOnUart(\"models>\")\n",
    "ExecuteCommand(\"pause\")"
   ]
  },
  {
   "cell_type": "markdown",
   "id": "5c144ea6",
   "metadata": {
    "cell_marker": "\"\"\""
   },
   "source": [
    "## Tracing execution\n",
    "\n",
    "Renode has plenty of different tracing and logging options.\n",
    "\n",
    "You can trace:\n",
    "\n",
    "* executed functions or code blocks as logs or interactive graphs\n",
    "* memory and peripheral accesses\n",
    "* executed opcodes\n",
    "* ..."
   ]
  },
  {
   "cell_type": "markdown",
   "id": "a4f3a3e8",
   "metadata": {
    "cell_marker": "\"\"\""
   },
   "source": [
    "## Function names logging\n",
    "\n",
    "When loading ELF files with function symbols, we can use this information for logging purposes.\n",
    "\n",
    "This gives you a good overview of the application progress and makes it easy to analyze bugs."
   ]
  },
  {
   "cell_type": "code",
   "execution_count": null,
   "id": "ebd95a5d",
   "metadata": {},
   "outputs": [],
   "source": [
    "Restart()\n",
    "ExecuteCommand(\"cpu0 LogFunctionNames true true\") # this enables logging of functions\n",
    "StartEmulation()\n",
    "\n",
    "WaitForLineOnUart(\"Hello, World!\")\n",
    "WaitForPromptOnUart(\"main>\")\n",
    "\n",
    "WriteToUart(\"1\")\n",
    "WaitForPromptOnUart(\"models>\")\n",
    "ExecuteCommand(\"pause\")"
   ]
  },
  {
   "cell_type": "code",
   "execution_count": null,
   "id": "6e360089",
   "metadata": {},
   "outputs": [],
   "source": [
    "# flush the log and print it out\n",
    "ResetEmulation()\n",
    "! cat log"
   ]
  },
  {
   "cell_type": "markdown",
   "id": "0151af85",
   "metadata": {
    "cell_marker": "\"\"\""
   },
   "source": [
    "## Need more context!\n",
    "\n",
    "Function names would be more useful if we actually knew what was happening in the SoC!"
   ]
  },
  {
   "cell_type": "code",
   "execution_count": null,
   "id": "c7ddabf9",
   "metadata": {},
   "outputs": [],
   "source": [
    "Restart()\n",
    "\n",
    "ExecuteCommand(\"cpu0 LogFunctionNames true true\")\n",
    "ExecuteCommand(\"sysbus LogAllPeripheralsAccess true\")\n",
    "\n",
    "# You can also decide to be more precise:\n",
    "# ExecuteCommand(\"cpu0 LogFunctionNames true 'uart_' true\")\n",
    "# ExecuteCommand(\"sysbus LogPeripheralAccess uart\")\n",
    "\n",
    "StartEmulation()\n",
    "\n",
    "WaitForLineOnUart(\"Hello, World!\")\n",
    "WaitForPromptOnUart(\"main>\")\n",
    "\n",
    "WriteToUart(\"1\")\n",
    "WaitForPromptOnUart(\"models>\")\n",
    "ExecuteCommand(\"pause\")"
   ]
  },
  {
   "cell_type": "markdown",
   "id": "6bef0bb3",
   "metadata": {
    "cell_marker": "\"\"\""
   },
   "source": [
    "## Speedscope traces\n",
    "\n",
    "Renode allows for different types of graphical traces.\n",
    "\n",
    "We currently support the https://www.speedscope.app/ viewer and https://perfetto.dev.\n",
    "\n",
    "Also, GCOV tracing support is in progress."
   ]
  },
  {
   "cell_type": "code",
   "execution_count": null,
   "id": "d5560833",
   "metadata": {},
   "outputs": [],
   "source": [
    "Restart()\n",
    "ExecuteCommand(\"cpu0 EnableProfilerCollapsedStack $CWD/speedscope.log true\")\n",
    "StartEmulation()\n",
    "\n",
    "WaitForLineOnUart(\"Hello, World!\")\n",
    "WaitForPromptOnUart(\"main>\")\n",
    "\n",
    "WriteToUart(\"1\")\n",
    "WaitForPromptOnUart(\"models>\")\n",
    "\n",
    "WriteToUart(\"2\")\n",
    "WaitForPromptOnUart(\"mnv2>\")\n",
    "\n",
    "WriteToUart(\"1\")\n",
    "WaitForPromptOnUart(\"mnv2>\")\n",
    "ExecuteCommand(\"pause\")"
   ]
  },
  {
   "cell_type": "code",
   "execution_count": null,
   "id": "ea532767",
   "metadata": {},
   "outputs": [],
   "source": [
    "ResetEmulation()\n",
    "# download the tracefile\n",
    "# you can open it here: https://www.speedscope.app/\n",
    "# or see a life example on Renodepedia: https://zephyr-dashboard.renode.io/renodepedia/boards/hifive1/?view=software&demo=Hello_World#trace\n",
    "from google.colab import files\n",
    "files.download('speedscope.log')"
   ]
  },
  {
   "cell_type": "markdown",
   "id": "9bc7ba9f",
   "metadata": {
    "cell_marker": "\"\"\""
   },
   "source": [
    "## Opcodes counting\n",
    "\n",
    "The CFU scenario, where we try to offload complex computation to another unit, can benefit from analysis if the application is using the accelerator effectively.\n",
    "\n",
    "The same features can be used to analyze the usefulness of other extensions as well, e.g. vector instructions."
   ]
  },
  {
   "cell_type": "code",
   "execution_count": null,
   "id": "d457cd7b",
   "metadata": {},
   "outputs": [],
   "source": [
    "Restart()\n",
    "ExecuteCommand(\"cpu0 EnableRiscvOpcodesCounting\")\n",
    "ExecuteCommand(\"cpu0 EnableCustomOpcodesCounting\")\n",
    "StartEmulation()\n",
    "\n",
    "WaitForLineOnUart(\"Hello, World!\")\n",
    "WaitForPromptOnUart(\"main>\")\n",
    "\n",
    "WriteToUart(\"1\")\n",
    "WaitForPromptOnUart(\"models>\")\n",
    "\n",
    "WriteToUart(\"2\")\n",
    "WaitForPromptOnUart(\"mnv2>\")\n",
    "\n",
    "WriteToUart(\"1\")\n",
    "WaitForPromptOnUart(\"mnv2>\")\n",
    "\n",
    "ExecuteCommand(\"pause\")\n",
    "result = ExecuteCommand(\"cpu0 GetAllOpcodesCounters\")\n",
    "print(result)"
   ]
  },
  {
   "cell_type": "markdown",
   "id": "122d80b8",
   "metadata": {
    "cell_marker": "\"\"\""
   },
   "source": [
    "## Renode metrics analysis\n",
    "\n",
    "There's a lot more data that can be analyzed!\n",
    "\n",
    "Renode allows you to track virtually any event.\n",
    "\n",
    "We provide an infrastructure to record executed instructions, memory accesses, CPU exceptions, and peripheral accesses."
   ]
  },
  {
   "cell_type": "code",
   "execution_count": null,
   "id": "46741703",
   "metadata": {},
   "outputs": [],
   "source": [
    "Restart()\n",
    "ExecuteCommand(\"machine EnableProfiler $CWD/metrics.dump\")\n",
    "StartEmulation()\n",
    "\n",
    "WaitForLineOnUart(\"Hello, World!\")\n",
    "WaitForPromptOnUart(\"main>\")\n",
    "\n",
    "WriteToUart(\"1\")\n",
    "WaitForPromptOnUart(\"models>\")\n",
    "ExecuteCommand(\"pause\")"
   ]
  },
  {
   "cell_type": "markdown",
   "id": "61c2faaf",
   "metadata": {
    "cell_marker": "\"\"\"",
    "lines_to_next_cell": 0
   },
   "source": [
    "On your host you'd run a Python script that would generate PNG images of graphs, or you'd use our library to parse data.\n",
    "\n",
    "In Colab we use our helper scripts to display things inline."
   ]
  },
  {
   "cell_type": "code",
   "execution_count": null,
   "id": "4e9da120",
   "metadata": {},
   "outputs": [],
   "source": [
    "ResetEmulation()\n",
    "import sys\n",
    "from pathlib import Path\n",
    "renode_path = Path('/root/.config/renode/renode-run.path').read_text()\n",
    "sys.path.append(renode_path)\n",
    "\n",
    "from renode_colab_tools import metrics\n",
    "from tools.metrics_analyzer.metrics_parser import MetricsParser\n",
    "metrics.init_notebook_mode(connected=False)\n",
    "parser = MetricsParser('metrics.dump')\n",
    "\n",
    "metrics.display_metrics(parser)"
   ]
  },
  {
   "cell_type": "markdown",
   "id": "7ddd59b4",
   "metadata": {
    "cell_marker": "\"\"\""
   },
   "source": [
    "## Testing with Renode\n",
    "\n",
    "Renode is very useful for interactive development, but one of its most important applications is in testing.\n",
    "\n",
    "Continuous Integration environment can work with Renode in many different ways, e.g. using the Python library we used above.\n",
    "\n",
    "The most robust approach to Renode testing, also used in our own CI systems, is via the [Robot Framework](https://robotframework.org/).\n",
    "\n",
    "![Robot](https://robotframework.org/img/RF.svg)\n",
    "\n",
    "Robot offers a scripting languagevto describe test cases and can integrate with so-called keywords provided by external applications.\n",
    "\n",
    "You already know these keywords: ``ExecuteCommand``, ``StartEmulation``, ``WaitForLineOnUart`` etc."
   ]
  },
  {
   "cell_type": "code",
   "execution_count": null,
   "id": "012c328d",
   "metadata": {},
   "outputs": [],
   "source": [
    "%%writefile test.robot\n",
    "\n",
    "*** Settings ***\n",
    "Suite Setup                   Setup\n",
    "Suite Teardown                Teardown\n",
    "Test Setup                    Reset Emulation\n",
    "Test Teardown                 Test Teardown\n",
    "Resource                      ${RENODEKEYWORDS}\n",
    "\n",
    "*** Keywords ***\n",
    "Create Machine\n",
    "    Execute Command          include @${CURDIR}/script.resc\n",
    "    Create Terminal Tester   sysbus.uart\n",
    "\n",
    "    Start Emulation\n",
    "\n",
    "*** Test Cases ***\n",
    "Should Run Mobile Net V2 Golden Tests\n",
    "    Create Machine\n",
    "\n",
    "    Wait For Line On Uart    CFU Playground\n",
    "    Wait For Prompt On Uart  main>\n",
    "    Write Line To Uart       1\n",
    "    Wait For Prompt On Uart  models>\n",
    "    Write Line To Uart       2\n",
    "    Wait For Prompt On Uart  mnv2>\n",
    "    Write Line To Uart       g\n",
    "    Wait For Line On Uart    Golden tests passed  120 \n",
    "    Wait For Prompt On Uart  mnv2>\n",
    "\n",
    "\n",
    "Should Run TFLite Unit Tests\n",
    "    Create Machine\n",
    "\n",
    "    Write Line To Uart       5\n",
    "    Wait For Line On Uart    CONV TEST:\n",
    "    Wait For Line On Uart    ~~~ALL TESTS PASSED~~~\n",
    "    Wait For Line On Uart    DEPTHWISE_CONV TEST:\n",
    "    Wait For Line On Uart    ~~~ALL TESTS PASSED~~~\n",
    "    Wait For Prompt On Uart  main>\n",
    "\n",
    "\n",
    "Should Run 1x1 Conv2D Golden Tests\n",
    "    Create Machine\n",
    "\n",
    "    Write Line To Uart       3\n",
    "    Wait For Prompt On Uart  mnv2_first>\n",
    "    Write Line To Uart       1\n",
    "    Wait For Line On Uart    OK - output tensor matches\n",
    "    Wait For Prompt On Uart  mnv2_first>"
   ]
  },
  {
   "cell_type": "code",
   "execution_count": null,
   "id": "d7b42cf1",
   "metadata": {},
   "outputs": [],
   "source": [
    "renode_path = Path('/root/.config/renode/renode-run.path').read_text()\n",
    "! {renode_path}/renode-test test.robot"
   ]
  },
  {
   "cell_type": "markdown",
   "id": "dfb39829",
   "metadata": {
    "cell_marker": "\"\"\""
   },
   "source": [
    "## CFU Integration\n",
    "\n",
    "Based on Verilator, Renode's co-simulation infrastructure lets you connect signals of different IP blocks written in HDL.\n",
    "\n",
    "The interface for CFU Playground [is common for all examples on their repository](https://github.com/google/CFU-Playground/tree/main/common/renode-verilator-integration).\n",
    "\n",
    "Each bus we use to connect to verilated peripherals requires a specific interface, and Renode specifies [one for CFUs as well](https://github.com/renode/renode/blob/master/src/Plugins/VerilatorPlugin/VerilatorIntegrationLibrary/src/buses/cfu.cpp).\n",
    "\n",
    "<img src=\"https://antmicro.com/blog/images/CFU-renode-diagram.svg\" width=\"1200\">"
   ]
  }
 ],
 "metadata": {
  "jupytext": {
   "cell_metadata_filter": "-all",
   "main_language": "python",
   "notebook_metadata_filter": "-all"
  },
  "kernelspec": {
   "display_name": "Python 3",
   "name": "python3"
  },
  "language_info": {
   "name": "python"
  }
 },
 "nbformat": 4,
 "nbformat_minor": 5
}
